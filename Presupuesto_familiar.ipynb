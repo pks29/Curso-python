{
  "nbformat": 4,
  "nbformat_minor": 0,
  "metadata": {
    "colab": {
      "provenance": [],
      "authorship_tag": "ABX9TyOwa3rIPd7sWWJZyZu7Ebql",
      "include_colab_link": true
    },
    "kernelspec": {
      "name": "python3",
      "display_name": "Python 3"
    },
    "language_info": {
      "name": "python"
    }
  },
  "cells": [
    {
      "cell_type": "markdown",
      "metadata": {
        "id": "view-in-github",
        "colab_type": "text"
      },
      "source": [
        "<a href=\"https://colab.research.google.com/github/pks29/Curso-python/blob/main/Presupuesto_familiar.ipynb\" target=\"_parent\"><img src=\"https://colab.research.google.com/assets/colab-badge.svg\" alt=\"Open In Colab\"/></a>"
      ]
    },
    {
      "cell_type": "code",
      "execution_count": 1,
      "metadata": {
        "colab": {
          "base_uri": "https://localhost:8080/"
        },
        "id": "NzEwKrV2MsZo",
        "outputId": "5eb77ce2-d6b8-4679-8d1f-7f2e11c68568"
      },
      "outputs": [
        {
          "output_type": "stream",
          "name": "stdout",
          "text": [
            "Ingrese el total de ingresos mensuales: 200.000\n",
            "Ingrese el gasto mensual para Alimentación: 20.000\n",
            "Ingrese el gasto mensual para Transporte: 10.000\n",
            "Ingrese el gasto mensual para Vivienda: 20.000\n",
            "Ingrese el gasto mensual para Educación: 10.\n",
            "Ingrese el gasto mensual para Entretenimiento: 10.000\n",
            "\n",
            "Resumen de ingresos y gastos:\n",
            "Ingresos mensuales: $200.0\n",
            "Gastos mensuales totales: $70.0\n",
            "\n",
            "¡Excelente! Su saldo restante es de $130.0.\n"
          ]
        }
      ],
      "source": [
        "# Definición de los ingresos mensuales de la familia\n",
        "ingresos_mensuales = float(input(\"Ingrese el total de ingresos mensuales: \"))\n",
        "\n",
        "# Creación de un diccionario para almacenar los gastos mensuales\n",
        "gastos_mensuales = {}\n",
        "\n",
        "# Solicitar y almacenar los gastos mensuales en diferentes categorías\n",
        "categorias = [\"Alimentación\", \"Transporte\", \"Vivienda\", \"Educación\", \"Entretenimiento\"]\n",
        "\n",
        "for categoria in categorias:\n",
        "    gasto = float(input(f\"Ingrese el gasto mensual para {categoria}: \"))\n",
        "    gastos_mensuales[categoria] = gasto\n",
        "\n",
        "# Calcular el total de los gastos mensuales\n",
        "total_gastos = sum(gastos_mensuales.values())\n",
        "\n",
        "# Mostrar un resumen de los ingresos y gastos mensuales\n",
        "print(\"\\nResumen de ingresos y gastos:\")\n",
        "print(f\"Ingresos mensuales: ${ingresos_mensuales}\")\n",
        "print(f\"Gastos mensuales totales: ${total_gastos}\")\n",
        "\n",
        "# Calcular el saldo restante después de los gastos\n",
        "saldo_restante = ingresos_mensuales - total_gastos\n",
        "\n",
        "# Verificar si el saldo es positivo o negativo\n",
        "if saldo_restante >= 0:\n",
        "    print(f\"\\n¡Excelente! Su saldo restante es de ${saldo_restante}.\")\n",
        "else:\n",
        "    print(\"\\nAdvertencia: ¡Ha excedido su presupuesto mensual!\")\n",
        "    print(f\"Su saldo restante es de ${saldo_restante}. Debe revisar sus gastos.\")"
      ]
    },
    {
      "cell_type": "code",
      "source": [
        "# Definición de los ingresos mensuales de la familia\n",
        "ingresos_mensuales = int(input(\"Ingrese el total de ingresos mensuales: \"))\n",
        "\n",
        "# Creación de un diccionario para almacenar los gastos mensuales\n",
        "gastos_mensuales = {}\n",
        "\n",
        "# Solicitar y almacenar los gastos mensuales en diferentes categorías\n",
        "categorias = [\"Alimentación\", \"Transporte\", \"Vivienda\", \"Educación\", \"entretenimiento\"]\n",
        "\n",
        "for categoria in categorias:\n",
        "    gasto = int(input(f\"Ingrese el gasto mensual para {categoria}: \"))\n",
        "    gastos_mensuales[categoria] = gasto\n",
        "\n",
        "# Calcular el total de los gastos mensuales\n",
        "total_gastos = sum(gastos_mensuales.values())\n",
        "\n",
        "# Mostrar un resumen de los ingresos y gastos mensuales\n",
        "print(\"\\nResumen de ingresos y gastos:\")\n",
        "print(f\"Ingresos mensuales: ${ingresos_mensuales}\")\n",
        "print(f\"Gastos mensuales totales: ${total_gastos}\")\n",
        "\n",
        "# Calcular el saldo restante después de los gastos\n",
        "saldo_restante = ingresos_mensuales - total_gastos\n",
        "\n",
        "# Verificar si el saldo es positivo o negativo\n",
        "if saldo_restante >= 0:\n",
        "    print(f\"\\n¡Excelente! Su saldo restante es de ${saldo_restante}.\")\n",
        "    ahorrar = input(\"Te gustaria ahorrar algo del saldo restante (Si o No): \")\n",
        "    if ahorrar.lower() == \"si\":\n",
        "      porcentajeAhorro = int(input(\"Cuanto quieres Ahorrar: \"))\n",
        "      saldoInteligente = saldo_restante - porcentajeAhorro\n",
        "      print(f\"\\n¡Excelente! Su saldo restante es de ${saldoInteligente}.\")\n",
        "    else:\n",
        "      print(\"perfecto\")\n",
        "else:\n",
        "    print(\"\\nAdvertencia: ¡Ha excedido su presupuesto mensual!\")\n",
        "    print(f\"Su saldo restante es de ${saldo_restante}.\")\n",
        "    print(\"Por favor, seleccione los gastos que le gustaría evitar:\")\n",
        "\n",
        "    # Iterar sobre las categorías y preguntar al usuario qué gastos evitar\n",
        "    for categoria in categorias:\n",
        "        opcion = input(f\"¿Le gustaría evitar el gasto de {categoria}? (Sí/No): \")\n",
        "        if opcion.lower() == \"sí\" or opcion.lower() == \"si\":\n",
        "            gastos_mensuales[categoria] = 0\n",
        "\n",
        "    # Recalcular el total de los gastos después de evitar los gastos seleccionados\n",
        "    total_gastos = sum(gastos_mensuales.values())\n",
        "    saldo_restante = ingresos_mensuales - total_gastos\n",
        "    print(f\"Después de evitar ciertos gastos, su saldo restante es de ${saldo_restante}.\")\n"
      ],
      "metadata": {
        "colab": {
          "base_uri": "https://localhost:8080/"
        },
        "id": "5-hbC4BFUVb6",
        "outputId": "f0f3b987-4522-494a-f795-e8ab8c7fee89"
      },
      "execution_count": 12,
      "outputs": [
        {
          "output_type": "stream",
          "name": "stdout",
          "text": [
            "Ingrese el total de ingresos mensuales: 66000000\n",
            "Ingrese el gasto mensual para Alimentación: 77800\n",
            "Ingrese el gasto mensual para Transporte: 69000\n",
            "Ingrese el gasto mensual para Vivienda: 70\n",
            "Ingrese el gasto mensual para Educación: 80\n",
            "Ingrese el gasto mensual para entretenimiento: 890\n",
            "\n",
            "Resumen de ingresos y gastos:\n",
            "Ingresos mensuales: $66000000\n",
            "Gastos mensuales totales: $147840\n",
            "\n",
            "¡Excelente! Su saldo restante es de $65852160.\n",
            "Te gustaria ahorrar algo del saldo restante (Si o No): si\n",
            "Cuanto quieres Ahorrar: 6500000\n",
            "\n",
            "¡Excelente! Su saldo restante es de $59352160.\n"
          ]
        }
      ]
    }
  ]
}